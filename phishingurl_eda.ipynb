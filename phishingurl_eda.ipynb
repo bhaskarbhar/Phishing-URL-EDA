{
 "cells": [
  {
   "cell_type": "code",
   "execution_count": null,
   "metadata": {},
   "outputs": [],
   "source": [
    "import pandas as pd\n",
    "import numpy as np\n",
    "import matplotlib.pyplot as plt\n",
    "import seaborn as sns\n",
    "%matplotlib inline"
   ]
  },
  {
   "cell_type": "code",
   "execution_count": null,
   "metadata": {},
   "outputs": [],
   "source": [
    "df = pd.read_csv(\"verified_online.csv\")\n",
    "df.head()"
   ]
  },
  {
   "cell_type": "code",
   "execution_count": null,
   "metadata": {},
   "outputs": [],
   "source": [
    "df.columns"
   ]
  },
  {
   "cell_type": "code",
   "execution_count": null,
   "metadata": {},
   "outputs": [],
   "source": [
    "df.info()"
   ]
  },
  {
   "cell_type": "code",
   "execution_count": null,
   "metadata": {},
   "outputs": [],
   "source": [
    "df.describe()"
   ]
  },
  {
   "cell_type": "code",
   "execution_count": null,
   "metadata": {},
   "outputs": [],
   "source": [
    "#Converting the timestamps to date format\n",
    "df['submission_time'] = pd.to_datetime(df['submission_time'])\n",
    "df['verification_time'] = pd.to_datetime(df['verification_time'])"
   ]
  },
  {
   "cell_type": "code",
   "execution_count": null,
   "metadata": {},
   "outputs": [],
   "source": [
    "# Converting categorical columns to category dtype\n",
    "df['verified'] = df['verified'].astype('category')\n",
    "df['online'] = df['online'].astype('category')\n",
    "df['target'] = df['target'].astype('category')\n",
    "df.loc[:, 'url_length'] = df['url'].apply(len)\n",
    "df.info()"
   ]
  },
  {
   "cell_type": "code",
   "execution_count": null,
   "metadata": {},
   "outputs": [],
   "source": [
    "###After analyzing and observing the target columns seems to be more explored rather than those verified and online column\n",
    "##removing other from the target column to better analyze targets"
   ]
  },
  {
   "cell_type": "code",
   "execution_count": null,
   "metadata": {},
   "outputs": [],
   "source": [
    "filtered_df = df[df['target'] != 'Other']\n",
    "plt.figure(figsize=(14, 20))\n",
    "sns.countplot(y='target', data=filtered_df)\n",
    "plt.title('Distribution of Targets (Excluding \"Other\")')\n",
    "plt.xlabel('Count')\n",
    "plt.ylabel('Target')\n",
    "plt.tick_params(axis='y')\n",
    "plt.show()\n"
   ]
  },
  {
   "cell_type": "code",
   "execution_count": null,
   "metadata": {},
   "outputs": [],
   "source": [
    "#So here we can see a huge number of companies are targeted\n",
    "#Lets see what are the top 10 companies which are affected"
   ]
  },
  {
   "cell_type": "code",
   "execution_count": null,
   "metadata": {},
   "outputs": [],
   "source": [
    "top_n = 10\n",
    "top_targets = filtered_df['target'].value_counts().nlargest(top_n)\n",
    "top_targets_df = filtered_df[filtered_df['target'].isin(top_targets.index)]\n",
    "plt.figure(figsize=(14, 7))\n",
    "sns.countplot(y='target', data=top_targets_df, order=top_targets.index)\n",
    "plt.title(f'Top {top_n} Targets (Excluding \"Other\")')\n",
    "plt.xlabel('Count')\n",
    "plt.ylabel('Target')\n",
    "plt.show()"
   ]
  },
  {
   "cell_type": "code",
   "execution_count": null,
   "metadata": {},
   "outputs": [],
   "source": [
    "#Lets do a frequency distribution analysis of url length\n",
    "# Plot histogram of URL lengths\n",
    "plt.figure(figsize=(15, 15))\n",
    "sns.histplot(data=df, x='url_length' , kde=True)\n",
    "plt.title('Distribution of URL Lengths')\n",
    "plt.xlabel('URL Length')\n",
    "plt.ylabel('Frequency')\n",
    "plt.show()"
   ]
  },
  {
   "cell_type": "code",
   "execution_count": null,
   "metadata": {},
   "outputs": [],
   "source": [
    "#We can see that url lengths are huge. This tells that phishers use large urls. Lets find out the biggest one.\n",
    "max_length_index = df['url_length'].idxmax()\n",
    "row_with_max_length = df.loc[max_length_index]\n",
    "row_with_max_length"
   ]
  },
  {
   "cell_type": "code",
   "execution_count": null,
   "metadata": {},
   "outputs": [],
   "source": [
    "#Now for better analysis lets filter the url length to 500 characters only\n",
    "new_df = df[df['url_length'] <= 500]\n",
    "plt.figure(figsize=(15, 15))\n",
    "sns.histplot(data=new_df, x='url_length' , kde=True)\n",
    "plt.title('Distribution of URL Lengths')\n",
    "plt.xlabel('URL Length')\n",
    "plt.ylabel('Frequency')\n",
    "plt.show()\n"
   ]
  },
  {
   "cell_type": "code",
   "execution_count": null,
   "metadata": {},
   "outputs": [],
   "source": [
    "#Now we can see the url length that are mostly used ranges from 0 to 100.\n",
    "#But we can see a sudden rise around 200 also.\n",
    "#Lets see what goes for the top 10 most attacked companies\n",
    "# Creating a boxplot to visualize the distribution of URL lengths for each target\n",
    "#Please note I am filtering the data again as there is a issue coming while running this cell if run again\n",
    "top_n = 10\n",
    "top_targets = top_targets_df['target'].value_counts().nlargest(top_n).index.tolist()\n",
    "\n",
    "# Filter data to include only the top targets\n",
    "filtered_top_10 = top_targets_df[top_targets_df['target'].isin(top_targets)]\n",
    "plt.figure(figsize=(14, 7))\n",
    "sns.boxplot(data=filtered_top_10, x='target', y='url_length', order=top_targets)\n",
    "plt.title('URL Lengths by Target (Top Attacked Companies)')\n",
    "plt.xlabel('Target')\n",
    "plt.ylabel('URL Length')\n",
    "plt.xticks(rotation=90)  # Rotate x-axis labels for better readability\n",
    "plt.show()"
   ]
  },
  {
   "cell_type": "code",
   "execution_count": null,
   "metadata": {},
   "outputs": [],
   "source": [
    "#From here that we can say that phishers use almost same url length for Apple.\n",
    "#For Microsoft and Internal Revenue Service sometimes different url lengths are also used. We can see the outliers there.\n",
    "#And for Yahoo there are no outliers. Well it may be said that phishing is easier on yahoo sites."
   ]
  }
 ],
 "metadata": {
  "kernelspec": {
   "display_name": "Python 3",
   "language": "python",
   "name": "python3"
  },
  "language_info": {
   "codemirror_mode": {
    "name": "ipython",
    "version": 3
   },
   "file_extension": ".py",
   "mimetype": "text/x-python",
   "name": "python",
   "nbconvert_exporter": "python",
   "pygments_lexer": "ipython3",
   "version": "3.10.11"
  }
 },
 "nbformat": 4,
 "nbformat_minor": 2
}
